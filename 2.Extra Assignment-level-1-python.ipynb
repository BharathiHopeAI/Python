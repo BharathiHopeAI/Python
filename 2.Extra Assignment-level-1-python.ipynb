{
 "cells": [
  {
   "cell_type": "code",
   "execution_count": 1,
   "id": "06289ddf-68d4-41d8-98a3-f497877c61c8",
   "metadata": {},
   "outputs": [
    {
     "name": "stdout",
     "output_type": "stream",
     "text": [
      "HOPE AI\n"
     ]
    }
   ],
   "source": [
    "print(\"HOPE AI\")"
   ]
  },
  {
   "cell_type": "code",
   "execution_count": 3,
   "id": "4c8c67ff-7baf-4fba-bf1c-ddcd960465d1",
   "metadata": {},
   "outputs": [
    {
     "name": "stdin",
     "output_type": "stream",
     "text": [
      "Enter your institute name: HOPE AI\n"
     ]
    },
    {
     "data": {
      "text/plain": [
       "'HOPE AI'"
      ]
     },
     "execution_count": 3,
     "metadata": {},
     "output_type": "execute_result"
    }
   ],
   "source": [
    "input(\"Enter your institute name:\")"
   ]
  },
  {
   "cell_type": "code",
   "execution_count": 5,
   "id": "60428e0a-a05b-49fd-901c-72348fe1c7c0",
   "metadata": {},
   "outputs": [
    {
     "name": "stdin",
     "output_type": "stream",
     "text": [
      "Enter your name:  Bharathi Ramasamy\n",
      "Enter your age:  42\n",
      "Enter your school name:  PGHSS\n",
      "Enter your degree:  BTech\n"
     ]
    },
    {
     "data": {
      "text/plain": [
       "'BTech'"
      ]
     },
     "execution_count": 5,
     "metadata": {},
     "output_type": "execute_result"
    }
   ],
   "source": [
    "input(\"Enter your name: \")\n",
    "input(\"Enter your age: \")\n",
    "input(\"Enter your school name: \")\n",
    "input(\"Enter your degree: \")"
   ]
  },
  {
   "cell_type": "code",
   "execution_count": 13,
   "id": "69b0325f-bcf9-46fd-abd7-d7bc93d07c5f",
   "metadata": {},
   "outputs": [
    {
     "name": "stdin",
     "output_type": "stream",
     "text": [
      "Enter number a=  43\n",
      "Enter number b=  34\n"
     ]
    },
    {
     "name": "stdout",
     "output_type": "stream",
     "text": [
      "add= 77\n"
     ]
    }
   ],
   "source": [
    "a=int (input(\"Enter number a= \"))\n",
    "b=int (input(\"Enter number b= \"))\n",
    "add=a+b\n",
    "print(\"add=\", add)"
   ]
  },
  {
   "cell_type": "code",
   "execution_count": 15,
   "id": "ecfc9a12-de08-4dc1-8eef-000c7da8e0d0",
   "metadata": {},
   "outputs": [
    {
     "name": "stdin",
     "output_type": "stream",
     "text": [
      "Enter number a= 43\n",
      "Enter number b= 34\n"
     ]
    },
    {
     "name": "stdout",
     "output_type": "stream",
     "text": [
      "Sub= 9\n"
     ]
    }
   ],
   "source": [
    "a=int (input(\"Enter number a=\"))\n",
    "b=int (input(\"Enter number b=\"))\n",
    "Sub=a-b\n",
    "print(\"Sub=\", Sub)"
   ]
  },
  {
   "cell_type": "code",
   "execution_count": 17,
   "id": "95ac381c-e50c-437b-9483-5b1609f4a26c",
   "metadata": {},
   "outputs": [
    {
     "name": "stdin",
     "output_type": "stream",
     "text": [
      "Enter number a= 43\n",
      "Enter number b= 34\n"
     ]
    },
    {
     "name": "stdout",
     "output_type": "stream",
     "text": [
      "Mul= 1462\n"
     ]
    }
   ],
   "source": [
    "a=int (input(\"Enter number a=\"))\n",
    "b=int (input(\"Enter number b=\"))\n",
    "Mul=a*b\n",
    "print(\"Mul=\",Mul)"
   ]
  },
  {
   "cell_type": "code",
   "execution_count": 19,
   "id": "bbd2844d-86e8-49e1-a302-5548025c5f44",
   "metadata": {},
   "outputs": [
    {
     "name": "stdin",
     "output_type": "stream",
     "text": [
      "Enter number a= 76\n",
      "Enter number b= 31\n"
     ]
    },
    {
     "name": "stdout",
     "output_type": "stream",
     "text": [
      "Float div= 2.4516129032258065\n"
     ]
    }
   ],
   "source": [
    "a=int (input(\"Enter number a=\"))\n",
    "b=int (input(\"Enter number b=\"))\n",
    "Div=a/b\n",
    "print(\"Float div=\",Div)"
   ]
  },
  {
   "cell_type": "code",
   "execution_count": 21,
   "id": "192eb8bf-1f37-49c7-acf0-5dbabda56073",
   "metadata": {},
   "outputs": [
    {
     "name": "stdout",
     "output_type": "stream",
     "text": [
      "a= 76\n",
      "b= 31\n",
      "Modulo= 14\n"
     ]
    }
   ],
   "source": [
    "a= 76\n",
    "b= 31\n",
    "Mod=a%b\n",
    "print(\"a= 76\")\n",
    "print(\"b= 31\")\n",
    "print(\"Modulo=\",Mod)"
   ]
  },
  {
   "cell_type": "code",
   "execution_count": 23,
   "id": "9ac7bade-9619-472f-89d0-ce7a6fb7783a",
   "metadata": {},
   "outputs": [
    {
     "name": "stdout",
     "output_type": "stream",
     "text": [
      "a= 4\n",
      "b= 4\n",
      "Power= 256\n"
     ]
    }
   ],
   "source": [
    "a= 4\n",
    "b= 4\n",
    "Power=a**b\n",
    "print(\"a= 4\")\n",
    "print(\"b= 4\")\n",
    "print(\"Power=\",Power)\n"
   ]
  },
  {
   "cell_type": "code",
   "execution_count": null,
   "id": "32079bb3-2da3-4bbb-8195-7a29103af9a9",
   "metadata": {},
   "outputs": [],
   "source": []
  }
 ],
 "metadata": {
  "kernelspec": {
   "display_name": "Python [conda env:base] *",
   "language": "python",
   "name": "conda-base-py"
  },
  "language_info": {
   "codemirror_mode": {
    "name": "ipython",
    "version": 3
   },
   "file_extension": ".py",
   "mimetype": "text/x-python",
   "name": "python",
   "nbconvert_exporter": "python",
   "pygments_lexer": "ipython3",
   "version": "3.12.7"
  }
 },
 "nbformat": 4,
 "nbformat_minor": 5
}
