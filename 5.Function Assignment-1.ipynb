{
 "cells": [
  {
   "cell_type": "code",
   "execution_count": 5,
   "id": "886e277c-658d-4273-93da-729e0ca01ff1",
   "metadata": {},
   "outputs": [],
   "source": [
    "def OddEven():\n",
    "    Num=int(input(\"Enter a number:\"))\n",
    "    if(Num%2==0):\n",
    "        print(\"Given number is Even\")\n",
    "        Output=\"Given number is Even\"\n",
    "    else:\n",
    "        print(\"Given number is Odd\")\n",
    "        Output=\"Given number is Odd\"\n",
    "        return Output"
   ]
  },
  {
   "cell_type": "code",
   "execution_count": 11,
   "id": "e24e2fa8-1893-4cc4-94e5-2f04b4b1cf39",
   "metadata": {},
   "outputs": [
    {
     "name": "stdin",
     "output_type": "stream",
     "text": [
      "Enter a number: 52452\n"
     ]
    },
    {
     "name": "stdout",
     "output_type": "stream",
     "text": [
      "Given number is Even\n"
     ]
    }
   ],
   "source": [
    "OddorEven=OddEven()"
   ]
  },
  {
   "cell_type": "code",
   "execution_count": 13,
   "id": "5b248479-d7f0-4371-9401-7dc113402254",
   "metadata": {},
   "outputs": [
    {
     "name": "stdout",
     "output_type": "stream",
     "text": [
      "Given number is Even\n"
     ]
    }
   ],
   "source": [
    "if (OddorEven==\"Odd Number\"):\n",
    "    print(\"Given number is Odd\")\n",
    "else:\n",
    "    print(\"Given number is Even\")"
   ]
  },
  {
   "cell_type": "code",
   "execution_count": 119,
   "id": "bfd45bf2-f77a-4c46-91fd-908036bdd350",
   "metadata": {},
   "outputs": [],
   "source": [
    "class OddEven:\n",
    "    def OddEven():\n",
    "        Num=int(input(\"Enter a number:\"))\n",
    "        if(Num%2==0):\n",
    "            print(\"Given number is Even\")\n",
    "            Output=\"Given number is Even\"\n",
    "        else:\n",
    "            print(\"Given number is Odd\")\n",
    "            Output=\"Given number is Odd\"\n",
    "            return Output    "
   ]
  },
  {
   "cell_type": "code",
   "execution_count": 121,
   "id": "3fc82870-c241-430c-8550-da50c46230ed",
   "metadata": {},
   "outputs": [
    {
     "name": "stdin",
     "output_type": "stream",
     "text": [
      "Enter a number: 52452\n"
     ]
    },
    {
     "name": "stdout",
     "output_type": "stream",
     "text": [
      "Given number is Even\n"
     ]
    }
   ],
   "source": [
    "OddEven.OddEven()"
   ]
  },
  {
   "cell_type": "code",
   "execution_count": 29,
   "id": "7c6d5f64-0dd7-4c87-ba36-7305e6d9e50b",
   "metadata": {},
   "outputs": [],
   "source": [
    "def Subfields():\n",
    "    print(\"Sub-fields in AI are:\")\n",
    "    print(\"Machine Learning\")\n",
    "    print(\"Neural Networks\")\n",
    "    print(\"Vision\")\n",
    "    print(\"Robotics\")\n",
    "    print(\"Speech Processing\")\n",
    "    print(\"Natural Language Processing\")"
   ]
  },
  {
   "cell_type": "code",
   "execution_count": 31,
   "id": "e79976a5-8ba9-4459-a09c-750fe6887dcb",
   "metadata": {},
   "outputs": [
    {
     "name": "stdout",
     "output_type": "stream",
     "text": [
      "Sub-fields in AI are:\n",
      "Machine Learning\n",
      "Neural Networks\n",
      "Vision\n",
      "Robotics\n",
      "Speech Processing\n",
      "Natural Language Processing\n"
     ]
    }
   ],
   "source": [
    "Subfields()"
   ]
  },
  {
   "cell_type": "code",
   "execution_count": 33,
   "id": "9575d7fd-6f66-4d01-9c3b-d4ef3afb4a5f",
   "metadata": {},
   "outputs": [],
   "source": [
    "class SubfieldsInAI():\n",
    "    def Subfields():\n",
    "        print(\"Sub-fields in AI are:\")\n",
    "        print(\"Machine Learning\")\n",
    "        print(\"Neural Networks\")\n",
    "        print(\"Vision\")\n",
    "        print(\"Robotics\")\n",
    "        print(\"Speech Processing\")\n",
    "        print(\"Natural Language Processing\")"
   ]
  },
  {
   "cell_type": "code",
   "execution_count": 35,
   "id": "b0e0efb1-856d-4ad1-9b49-f4bd2a8a1387",
   "metadata": {},
   "outputs": [
    {
     "name": "stdout",
     "output_type": "stream",
     "text": [
      "Sub-fields in AI are:\n",
      "Machine Learning\n",
      "Neural Networks\n",
      "Vision\n",
      "Robotics\n",
      "Speech Processing\n",
      "Natural Language Processing\n"
     ]
    }
   ],
   "source": [
    "SubfieldsInAI.Subfields()"
   ]
  },
  {
   "cell_type": "code",
   "execution_count": 59,
   "id": "6be727a3-a976-49af-855f-49801214ecf7",
   "metadata": {},
   "outputs": [
    {
     "name": "stdin",
     "output_type": "stream",
     "text": [
      "Your Gender: Male\n",
      "Your age: 28\n"
     ]
    },
    {
     "name": "stdout",
     "output_type": "stream",
     "text": [
      "You are eligible to get married\n"
     ]
    }
   ],
   "source": [
    "Gender=input(\"Your Gender:\")\n",
    "Age=int(input(\"Your age:\"))\n",
    "if Gender=='Male' and Age>=21:\n",
    "    print(\"You are eligible to get married\")\n",
    "elif Gender=='Female' and Age>=18:\n",
    "    print(\"You are eligible to get married\")\n",
    "else:\n",
    "    print(\"You are not eligible to get married\")"
   ]
  },
  {
   "cell_type": "code",
   "execution_count": 61,
   "id": "c6ba5490-8373-46d3-8a2a-0c1a74c03c80",
   "metadata": {},
   "outputs": [],
   "source": [
    "def Elegible():\n",
    "    Gender=input(\"Your Gender:\")\n",
    "    Age=int(input(\"Your age:\"))\n",
    "    if Gender=='Male' and Age>=21:\n",
    "        print(\"You are eligible to get married\")\n",
    "    elif Gender=='Female' and Age>=18:\n",
    "        print(\"You are eligible to get married\")\n",
    "    else:\n",
    "        print(\"You are not eligible to get married\")"
   ]
  },
  {
   "cell_type": "code",
   "execution_count": 63,
   "id": "c98522b6-71b2-4bd4-b8ad-43d1a1490b92",
   "metadata": {},
   "outputs": [
    {
     "name": "stdin",
     "output_type": "stream",
     "text": [
      "Your Gender: Female\n",
      "Your age: 18\n"
     ]
    },
    {
     "name": "stdout",
     "output_type": "stream",
     "text": [
      "You are eligible to get married\n"
     ]
    }
   ],
   "source": [
    "Elegible()"
   ]
  },
  {
   "cell_type": "code",
   "execution_count": 67,
   "id": "9e7ff2df-48c2-4682-b42b-2eb6d6d51c65",
   "metadata": {},
   "outputs": [],
   "source": [
    "class ElegiblityForMarriage:\n",
    "    def Elegible():\n",
    "        Gender=input(\"Your Gender:\")\n",
    "        Age=int(input(\"Your age:\"))\n",
    "        if Gender=='Male' and Age>=21:\n",
    "            print(\"You are eligible to get married\")\n",
    "        elif Gender=='Female' and Age>=18:\n",
    "            print(\"You are eligible to get married\")\n",
    "        else:\n",
    "            print(\"You are not eligible to get married\")"
   ]
  },
  {
   "cell_type": "code",
   "execution_count": 71,
   "id": "47a7aa3c-ada4-4abf-b596-5adbe20edbc7",
   "metadata": {},
   "outputs": [
    {
     "name": "stdin",
     "output_type": "stream",
     "text": [
      "Your Gender: Female\n",
      "Your age: 16\n"
     ]
    },
    {
     "name": "stdout",
     "output_type": "stream",
     "text": [
      "You are not eligible to get married\n"
     ]
    }
   ],
   "source": [
    "ElegiblityForMarriage.Elegible()"
   ]
  },
  {
   "cell_type": "code",
   "execution_count": 83,
   "id": "cbb088fc-4187-4cfd-848a-32394ee5441b",
   "metadata": {},
   "outputs": [
    {
     "name": "stdin",
     "output_type": "stream",
     "text": [
      "Subject1= 98\n",
      "Subject2= 87\n",
      "Subject3= 95\n",
      "Subject4= 95\n",
      "Subject5= 93\n"
     ]
    },
    {
     "name": "stdout",
     "output_type": "stream",
     "text": [
      "Total:  468\n",
      "Percentage:  93.6 %\n"
     ]
    }
   ],
   "source": [
    "Subject1=int(input(\"Subject1=\"))\n",
    "Subject2=int(input(\"Subject2=\"))\n",
    "Subject3=int(input(\"Subject3=\"))\n",
    "Subject4=int(input(\"Subject4=\"))\n",
    "Subject5=int(input(\"Subject5=\"))\n",
    "Total=Subject1+Subject2+Subject3+Subject4+Subject5\n",
    "Percentage=(Total/5)\n",
    "print(\"Total: \",Total)\n",
    "print(\"Percentage: \",Percentage,\"%\")"
   ]
  },
  {
   "cell_type": "code",
   "execution_count": 85,
   "id": "3513f228-3f4d-43e9-9056-df6706c6fcea",
   "metadata": {},
   "outputs": [],
   "source": [
    "def percentage():\n",
    "    Subject1=int(input(\"Subject1=\"))\n",
    "    Subject2=int(input(\"Subject2=\"))\n",
    "    Subject3=int(input(\"Subject3=\"))\n",
    "    Subject4=int(input(\"Subject4=\"))\n",
    "    Subject5=int(input(\"Subject5=\"))\n",
    "    Total=Subject1+Subject2+Subject3+Subject4+Subject5\n",
    "    Percentage=(Total/5)\n",
    "    print(\"Total: \",Total)\n",
    "    print(\"Percentage: \",Percentage,\"%\")    "
   ]
  },
  {
   "cell_type": "code",
   "execution_count": 87,
   "id": "9a22fb64-e769-4b7e-8307-92397bc9afe6",
   "metadata": {},
   "outputs": [
    {
     "name": "stdin",
     "output_type": "stream",
     "text": [
      "Subject1= 98\n",
      "Subject2= 87\n",
      "Subject3= 95\n",
      "Subject4= 95\n",
      "Subject5= 93\n"
     ]
    },
    {
     "name": "stdout",
     "output_type": "stream",
     "text": [
      "Total:  468\n",
      "Percentage:  93.6 %\n"
     ]
    }
   ],
   "source": [
    "percentage()"
   ]
  },
  {
   "cell_type": "code",
   "execution_count": 89,
   "id": "85085922-8885-4bc6-9f04-d10f06c4c809",
   "metadata": {},
   "outputs": [],
   "source": [
    "class FindPercent:\n",
    "    def percentage():\n",
    "        Subject1=int(input(\"Subject1=\"))\n",
    "        Subject2=int(input(\"Subject2=\"))\n",
    "        Subject3=int(input(\"Subject3=\"))\n",
    "        Subject4=int(input(\"Subject4=\"))\n",
    "        Subject5=int(input(\"Subject5=\"))\n",
    "        Total=Subject1+Subject2+Subject3+Subject4+Subject5\n",
    "        Percentage=(Total/5)\n",
    "        print(\"Total: \",Total)\n",
    "        print(\"Percentage: \",Percentage,\"%\")        "
   ]
  },
  {
   "cell_type": "code",
   "execution_count": 91,
   "id": "2af31b78-445d-4917-b139-38291873f568",
   "metadata": {},
   "outputs": [
    {
     "name": "stdin",
     "output_type": "stream",
     "text": [
      "Subject1= 98\n",
      "Subject2= 87\n",
      "Subject3= 95\n",
      "Subject4= 95\n",
      "Subject5= 93\n"
     ]
    },
    {
     "name": "stdout",
     "output_type": "stream",
     "text": [
      "Total:  468\n",
      "Percentage:  93.6 %\n"
     ]
    }
   ],
   "source": [
    "FindPercent.percentage()"
   ]
  },
  {
   "cell_type": "code",
   "execution_count": 101,
   "id": "e0f0f894-fc8c-460b-af21-9e1c6ffe6b9c",
   "metadata": {},
   "outputs": [
    {
     "name": "stdin",
     "output_type": "stream",
     "text": [
      "Height: 32\n",
      "Breadth: 34\n"
     ]
    },
    {
     "name": "stdout",
     "output_type": "stream",
     "text": [
      "Area formula:(Height*Breadth)/2\n",
      "Area of Triangle: 544.0\n"
     ]
    }
   ],
   "source": [
    "Height=int(input(\"Height:\"))\n",
    "Breadth=int(input(\"Breadth:\"))\n",
    "AreaFormula=(Height*Breadth)/2\n",
    "print(\"Area formula:(Height*Breadth)/2\")\n",
    "print(\"Area of Triangle:\",AreaFormula)"
   ]
  },
  {
   "cell_type": "code",
   "execution_count": 103,
   "id": "f6d27554-179f-498f-8e9b-cea4a41a1d5c",
   "metadata": {},
   "outputs": [
    {
     "name": "stdin",
     "output_type": "stream",
     "text": [
      "Height1: 2\n",
      "Height2: 4\n",
      "Breadth: 4\n"
     ]
    },
    {
     "name": "stdout",
     "output_type": "stream",
     "text": [
      "Perimeter Formula:Height1+Height2+Breadth\n",
      "Perimeter of Triangle: 10\n"
     ]
    }
   ],
   "source": [
    "Height1=int(input(\"Height1:\"))\n",
    "Height2=int(input(\"Height2:\"))\n",
    "Breadth=int(input(\"Breadth:\"))\n",
    "Perimeter=Height1+Height2+Breadth\n",
    "print(\"Perimeter Formula:Height1+Height2+Breadth\")\n",
    "print(\"Perimeter of Triangle:\",Perimeter)"
   ]
  },
  {
   "cell_type": "code",
   "execution_count": 107,
   "id": "141166af-06fd-471e-bed4-bec55ccf7662",
   "metadata": {},
   "outputs": [],
   "source": [
    "def triangle():\n",
    "    Height1=int(input(\"Height1:\"))\n",
    "    Height2=int(input(\"Height2:\"))\n",
    "    Breadth=int(input(\"Breadth:\"))\n",
    "    Perimeter=Height1+Height2+Breadth\n",
    "    print(\"Perimeter Formula:Height1+Height2+Breadth\")\n",
    "    print(\"Perimeter of Triangle:\",Perimeter)"
   ]
  },
  {
   "cell_type": "code",
   "execution_count": 109,
   "id": "bd559418-3523-48f4-b6f2-0f0466cd2482",
   "metadata": {},
   "outputs": [
    {
     "name": "stdin",
     "output_type": "stream",
     "text": [
      "Height1: 2\n",
      "Height2: 4\n",
      "Breadth: 4\n"
     ]
    },
    {
     "name": "stdout",
     "output_type": "stream",
     "text": [
      "Perimeter Formula:Height1+Height2+Breadth\n",
      "Perimeter of Triangle: 10\n"
     ]
    }
   ],
   "source": [
    "triangle()"
   ]
  },
  {
   "cell_type": "code",
   "execution_count": 111,
   "id": "eccd2ac5-a7a8-4ee4-8da0-274f12b0ca14",
   "metadata": {},
   "outputs": [],
   "source": [
    "class triangle:\n",
    "    def triangle():\n",
    "        Height=int(input(\"Height:\"))\n",
    "        Breadth=int(input(\"Breadth:\"))\n",
    "        AreaFormula=(Height*Breadth)/2\n",
    "        print(\"Area formula:(Height*Breadth)/2\")\n",
    "        print(\"Area of Triangle:\",AreaFormula)\n",
    "\n",
    "        Height1=int(input(\"Height1:\"))\n",
    "        Height2=int(input(\"Height2:\"))\n",
    "        Breadth=int(input(\"Breadth:\"))\n",
    "        Perimeter=Height1+Height2+Breadth\n",
    "        print(\"Perimeter Formula:Height1+Height2+Breadth\")\n",
    "        print(\"Perimeter of Triangle:\",Perimeter)            "
   ]
  },
  {
   "cell_type": "code",
   "execution_count": 113,
   "id": "f730f8d5-c0c7-446f-a747-7fe793df8181",
   "metadata": {},
   "outputs": [
    {
     "name": "stdin",
     "output_type": "stream",
     "text": [
      "Height: 32\n",
      "Breadth: 34\n"
     ]
    },
    {
     "name": "stdout",
     "output_type": "stream",
     "text": [
      "Area formula:(Height*Breadth)/2\n",
      "Area of Triangle: 544.0\n"
     ]
    },
    {
     "name": "stdin",
     "output_type": "stream",
     "text": [
      "Height1: 2\n",
      "Height2: 4\n",
      "Breadth: 4\n"
     ]
    },
    {
     "name": "stdout",
     "output_type": "stream",
     "text": [
      "Perimeter Formula:Height1+Height2+Breadth\n",
      "Perimeter of Triangle: 10\n"
     ]
    }
   ],
   "source": [
    "triangle.triangle()"
   ]
  }
 ],
 "metadata": {
  "kernelspec": {
   "display_name": "Python [conda env:base] *",
   "language": "python",
   "name": "conda-base-py"
  },
  "language_info": {
   "codemirror_mode": {
    "name": "ipython",
    "version": 3
   },
   "file_extension": ".py",
   "mimetype": "text/x-python",
   "name": "python",
   "nbconvert_exporter": "python",
   "pygments_lexer": "ipython3",
   "version": "3.12.7"
  }
 },
 "nbformat": 4,
 "nbformat_minor": 5
}
