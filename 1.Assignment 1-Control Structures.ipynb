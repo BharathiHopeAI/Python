{
 "cells": [
  {
   "cell_type": "code",
   "execution_count": 1,
   "id": "ae603c6f-644d-4c9b-bb13-eac922eb7749",
   "metadata": {},
   "outputs": [
    {
     "name": "stdout",
     "output_type": "stream",
     "text": [
      "Welcome to Assignment-1\n"
     ]
    }
   ],
   "source": [
    "print(\"Welcome to Assignment-1\")"
   ]
  },
  {
   "cell_type": "code",
   "execution_count": 3,
   "id": "505fb7c9-73a4-43db-8452-771a0b01b73c",
   "metadata": {},
   "outputs": [
    {
     "name": "stdout",
     "output_type": "stream",
     "text": [
      "Num1=10\n",
      "Num2=30\n",
      "40\n"
     ]
    }
   ],
   "source": [
    "Num1=10\n",
    "Num2=30\n",
    "Add=Num1+Num2\n",
    "print(\"Num1=10\")\n",
    "print(\"Num2=30\")\n",
    "print(Add)"
   ]
  },
  {
   "cell_type": "code",
   "execution_count": 31,
   "id": "934c6a52-2bde-4708-b3e5-0d309c16ca8d",
   "metadata": {},
   "outputs": [
    {
     "name": "stdout",
     "output_type": "stream",
     "text": [
      "10\n",
      "30\n",
      "40\n"
     ]
    }
   ],
   "source": [
    "Num1=10\n",
    "Num2=30\n",
    "Add=Num1+Num2\n",
    "print(Num1)\n",
    "print(Num2)\n",
    "print(Add)\n"
   ]
  },
  {
   "cell_type": "code",
   "execution_count": 13,
   "id": "c6dccfd0-2461-49bf-b656-cb7a38a1fc33",
   "metadata": {},
   "outputs": [
    {
     "name": "stdin",
     "output_type": "stream",
     "text": [
      "Enter Num1: 10\n",
      "Enter Num2: 30\n"
     ]
    },
    {
     "name": "stdout",
     "output_type": "stream",
     "text": [
      "Num1= 10\n",
      "Num2= 30\n",
      "Add= 40\n"
     ]
    }
   ],
   "source": [
    "Num1=int(input(\"Enter Num1:\"))\n",
    "Num2=int(input(\"Enter Num2:\"))\n",
    "Add=Num1+Num2\n",
    "print(\"Num1=\", Num1)\n",
    "print(\"Num2=\", Num2)\n",
    "print(\"Add=\", Add)"
   ]
  },
  {
   "cell_type": "code",
   "execution_count": 15,
   "id": "ec3e5bca-ed60-4b90-a2fc-2abedb899f2e",
   "metadata": {},
   "outputs": [],
   "source": [
    "#Body Mass Index"
   ]
  },
  {
   "cell_type": "code",
   "execution_count": 19,
   "id": "ac6556ed-d92e-4540-ac00-eecd18be4822",
   "metadata": {},
   "outputs": [
    {
     "name": "stdin",
     "output_type": "stream",
     "text": [
      "Enter the Body Mass Index: 34\n"
     ]
    },
    {
     "name": "stdout",
     "output_type": "stream",
     "text": [
      "Overweight\n"
     ]
    }
   ],
   "source": [
    "BMI=int(input(\"Enter the Body Mass Index:\"))\n",
    "if(BMI<18.4):\n",
    "    print(\"Underweight\")\n",
    "elif(BMI<24.9):\n",
    "    print(\"Normal\")\n",
    "elif(BMI<39.9):\n",
    "    print(\"Overweight\")\n",
    "elif(BMI>40):\n",
    "    print(\"Obese\")"
   ]
  },
  {
   "cell_type": "code",
   "execution_count": 27,
   "id": "8cbb0ffe-d91c-4f3f-8e22-7f7e0181fbff",
   "metadata": {},
   "outputs": [
    {
     "name": "stdout",
     "output_type": "stream",
     "text": [
      "Underweight\n",
      "Obese\n",
      "Normal\n",
      "Overweight\n"
     ]
    }
   ],
   "source": [
    "list=[18,40,24,35]\n",
    "for BMI in list:\n",
    "    if(BMI<18.4):\n",
    "        print(\"Underweight\")\n",
    "    elif(BMI<24.9):\n",
    "        print(\"Normal\")\n",
    "    elif(BMI<39.9):\n",
    "        print(\"Overweight\")\n",
    "    else:\n",
    "        print(\"Obese\")"
   ]
  },
  {
   "cell_type": "code",
   "execution_count": null,
   "id": "3a5f2957-5ec4-4ae5-af47-2092b5df48d4",
   "metadata": {},
   "outputs": [],
   "source": []
  }
 ],
 "metadata": {
  "kernelspec": {
   "display_name": "Python [conda env:base] *",
   "language": "python",
   "name": "conda-base-py"
  },
  "language_info": {
   "codemirror_mode": {
    "name": "ipython",
    "version": 3
   },
   "file_extension": ".py",
   "mimetype": "text/x-python",
   "name": "python",
   "nbconvert_exporter": "python",
   "pygments_lexer": "ipython3",
   "version": "3.12.7"
  }
 },
 "nbformat": 4,
 "nbformat_minor": 5
}
