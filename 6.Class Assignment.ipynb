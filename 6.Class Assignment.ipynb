{
 "cells": [
  {
   "cell_type": "code",
   "execution_count": 1,
   "id": "fb5abe5d-18fc-46ab-a73e-ee22f651550c",
   "metadata": {},
   "outputs": [],
   "source": [
    "from LibMultipleFunctions import MultipleFunctions"
   ]
  },
  {
   "cell_type": "code",
   "execution_count": 2,
   "id": "73bc8387-26a3-47c0-a0ac-06567b582f11",
   "metadata": {},
   "outputs": [
    {
     "name": "stdout",
     "output_type": "stream",
     "text": [
      "Sub-fields in AI are:\n",
      "Machine Learning\n",
      "Neural Networks\n",
      "Vision\n",
      "Robotics\n",
      "Speech Processing\n",
      "Natural Language Processing\n"
     ]
    }
   ],
   "source": [
    "MultipleFunctions.Subfields()"
   ]
  },
  {
   "cell_type": "code",
   "execution_count": 3,
   "id": "fcaf9dd0-54de-462d-a4a1-41d609d3fa3e",
   "metadata": {},
   "outputs": [
    {
     "name": "stdin",
     "output_type": "stream",
     "text": [
      "Enter a number: 52452\n"
     ]
    },
    {
     "name": "stdout",
     "output_type": "stream",
     "text": [
      "Given number is Even\n"
     ]
    }
   ],
   "source": [
    "MultipleFunctions.OddEven()"
   ]
  },
  {
   "cell_type": "code",
   "execution_count": 4,
   "id": "0940c37d-854a-435d-9ce0-551d6826c37c",
   "metadata": {},
   "outputs": [
    {
     "name": "stdin",
     "output_type": "stream",
     "text": [
      "Your Gender: Male\n",
      "Your age: 20\n"
     ]
    },
    {
     "name": "stdout",
     "output_type": "stream",
     "text": [
      "You are not eligible to get married\n"
     ]
    }
   ],
   "source": [
    "MultipleFunctions.Elegible()"
   ]
  },
  {
   "cell_type": "code",
   "execution_count": 5,
   "id": "d6c21fd9-523c-48ce-8b52-637f254a7ee9",
   "metadata": {},
   "outputs": [
    {
     "name": "stdin",
     "output_type": "stream",
     "text": [
      "Subject1= 98\n",
      "Subject2= 87\n",
      "Subject3= 95\n",
      "Subject4= 95\n",
      "Subject5= 93\n"
     ]
    },
    {
     "name": "stdout",
     "output_type": "stream",
     "text": [
      "Total:  468\n",
      "Percentage:  93.6 %\n"
     ]
    }
   ],
   "source": [
    "MultipleFunctions.percentage()"
   ]
  },
  {
   "cell_type": "code",
   "execution_count": 6,
   "id": "b044483a-6c84-4ac8-9dad-b4c210618581",
   "metadata": {},
   "outputs": [
    {
     "name": "stdin",
     "output_type": "stream",
     "text": [
      "Height1: 2\n",
      "Height2: 4\n",
      "Breadth: 4\n"
     ]
    },
    {
     "name": "stdout",
     "output_type": "stream",
     "text": [
      "Perimeter Formula:Height1+Height2+Breadth\n",
      "Perimeter of Triangle: 10\n"
     ]
    },
    {
     "name": "stdin",
     "output_type": "stream",
     "text": [
      "Height: 32\n",
      "Breadth: 34\n"
     ]
    },
    {
     "name": "stdout",
     "output_type": "stream",
     "text": [
      "Area formula:(Height*Breadth)/2\n",
      "Area of Triangle: 544.0\n"
     ]
    }
   ],
   "source": [
    "MultipleFunctions.triangle()"
   ]
  },
  {
   "cell_type": "code",
   "execution_count": null,
   "id": "6a7731ae-7023-4ae9-af90-da9dc9c99948",
   "metadata": {},
   "outputs": [],
   "source": []
  }
 ],
 "metadata": {
  "kernelspec": {
   "display_name": "Python [conda env:base] *",
   "language": "python",
   "name": "conda-base-py"
  },
  "language_info": {
   "codemirror_mode": {
    "name": "ipython",
    "version": 3
   },
   "file_extension": ".py",
   "mimetype": "text/x-python",
   "name": "python",
   "nbconvert_exporter": "python",
   "pygments_lexer": "ipython3",
   "version": "3.12.7"
  }
 },
 "nbformat": 4,
 "nbformat_minor": 5
}
