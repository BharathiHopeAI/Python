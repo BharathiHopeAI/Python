{
 "cells": [
  {
   "cell_type": "code",
   "execution_count": 2,
   "id": "1b38321e-6265-4d05-833e-63cbef8896ad",
   "metadata": {},
   "outputs": [
    {
     "name": "stdout",
     "output_type": "stream",
     "text": [
      "0\n",
      "1\n",
      "2\n",
      "3\n",
      "4\n",
      "5\n",
      "6\n",
      "7\n",
      "8\n",
      "9\n",
      "10\n",
      "11\n",
      "12\n",
      "13\n",
      "14\n",
      "15\n",
      "16\n",
      "17\n",
      "18\n",
      "19\n"
     ]
    }
   ],
   "source": [
    "for num in range(0,20):\n",
    "    print(num)"
   ]
  },
  {
   "cell_type": "code",
   "execution_count": 6,
   "id": "4e97b35e-2841-4eab-b79e-3621ce87d2fb",
   "metadata": {},
   "outputs": [
    {
     "name": "stdout",
     "output_type": "stream",
     "text": [
      "10,11,12,13,14,15,16,17,18,19,"
     ]
    }
   ],
   "source": [
    "for num in range(10,20):\n",
    "    print(num, end=',')"
   ]
  },
  {
   "cell_type": "code",
   "execution_count": 8,
   "id": "b48c1fc0-9831-4bbf-b85d-c6c08d25c2de",
   "metadata": {},
   "outputs": [
    {
     "name": "stdout",
     "output_type": "stream",
     "text": [
      "10 11 12 13 14 15 16 17 18 19 "
     ]
    }
   ],
   "source": [
    "for num in range(10,20):\n",
    "    print(num, end=' ')"
   ]
  },
  {
   "cell_type": "code",
   "execution_count": 10,
   "id": "58bd8059-949d-4a96-bad8-8fa239f10092",
   "metadata": {},
   "outputs": [
    {
     "name": "stdout",
     "output_type": "stream",
     "text": [
      "20 24 28 32 36 "
     ]
    }
   ],
   "source": [
    "for num in range(20,40,4):\n",
    "    print(num,end=' ')"
   ]
  },
  {
   "cell_type": "code",
   "execution_count": 18,
   "id": "a5f2d338-7fb8-42ee-bf75-05afc77b99d1",
   "metadata": {},
   "outputs": [
    {
     "data": {
      "text/plain": [
       "5"
      ]
     },
     "execution_count": 18,
     "metadata": {},
     "output_type": "execute_result"
    }
   ],
   "source": [
    "List=('10', '20', '45', '58', '41')\n",
    "len(List)"
   ]
  },
  {
   "cell_type": "code",
   "execution_count": 20,
   "id": "f036fdb9-0151-4e70-812f-d24af61d7d7b",
   "metadata": {},
   "outputs": [
    {
     "name": "stdout",
     "output_type": "stream",
     "text": [
      "Number of items in the list:\n"
     ]
    },
    {
     "data": {
      "text/plain": [
       "5"
      ]
     },
     "execution_count": 20,
     "metadata": {},
     "output_type": "execute_result"
    }
   ],
   "source": [
    "List=('10', '20', '45', '58', '41')\n",
    "print(\"Number of items in the list:\")\n",
    "len(List) "
   ]
  },
  {
   "cell_type": "code",
   "execution_count": 30,
   "id": "8a9da40f-0ed0-44e5-bca5-3a2d92e535de",
   "metadata": {},
   "outputs": [
    {
     "name": "stdout",
     "output_type": "stream",
     "text": [
      "Number of items in the list:\n",
      "5\n"
     ]
    }
   ],
   "source": [
    "List=('10', '20', '45', '58', '41')\n",
    "print(\"Number of items in the list:\")\n",
    "print(len(List))"
   ]
  },
  {
   "cell_type": "code",
   "execution_count": 60,
   "id": "6a395b05-1045-448c-9296-ef8a4bd33c0e",
   "metadata": {},
   "outputs": [
    {
     "name": "stdout",
     "output_type": "stream",
     "text": [
      "A\n",
      "r\n",
      "t\n",
      "i\n",
      "f\n",
      "i\n",
      "c\n",
      "i\n",
      "a\n",
      "l\n",
      " \n",
      "I\n",
      "n\n",
      "t\n",
      "e\n",
      "l\n",
      "i\n",
      "g\n",
      "e\n",
      "n\n",
      "c\n",
      "e\n"
     ]
    }
   ],
   "source": [
    "Text=\"Artificial Inteligence\"\n",
    "for letter in range(len(Text)):\n",
    "    print(Text[letter])"
   ]
  },
  {
   "cell_type": "code",
   "execution_count": 72,
   "id": "d2162ca0-85f6-44ad-ad42-71bb397a136d",
   "metadata": {},
   "outputs": [
    {
     "name": "stdin",
     "output_type": "stream",
     "text": [
      "-Your name- Bharathi Ramasamy\n",
      "-Your age- 42\n",
      "-Your Profession- Employed\n"
     ]
    },
    {
     "name": "stdout",
     "output_type": "stream",
     "text": [
      " \n"
     ]
    }
   ],
   "source": [
    "input(\"-Your name-\")\n",
    "input(\"-Your age-\")\n",
    "input(\"-Your Profession-\")\n",
    "print(\" \")"
   ]
  },
  {
   "cell_type": "code",
   "execution_count": 80,
   "id": "cc4c53cb-fdf2-4f22-b4c5-0ed08e00a7da",
   "metadata": {},
   "outputs": [
    {
     "name": "stdout",
     "output_type": "stream",
     "text": [
      "19 is odd\n",
      "25 is odd\n",
      "1 is odd\n"
     ]
    }
   ],
   "source": [
    "List=(20,10,16,19,25,1,276,188)\n",
    "for num in List:\n",
    "    if num%2==1:\n",
    "        print(num,\"is odd\")"
   ]
  },
  {
   "cell_type": "code",
   "execution_count": 82,
   "id": "10684bde-0ec3-4b3d-bb4b-ce86715e6e46",
   "metadata": {},
   "outputs": [
    {
     "name": "stdout",
     "output_type": "stream",
     "text": [
      "20 is even\n",
      "10 is even\n",
      "16 is even\n",
      "276 is even\n",
      "188 is even\n"
     ]
    }
   ],
   "source": [
    "List=(20,10,16,19,25,1,276,188)\n",
    "for num in List:\n",
    "    if num%2==0:\n",
    "        print(num,\"is even\")"
   ]
  },
  {
   "cell_type": "code",
   "execution_count": 84,
   "id": "df5290fa-443d-40a6-bfac-7c2ef43fe703",
   "metadata": {},
   "outputs": [
    {
     "name": "stdout",
     "output_type": "stream",
     "text": [
      "('1', 'Welcome', '2', 'Hope')\n"
     ]
    }
   ],
   "source": [
    "tup=('1', 'Welcome', '2', 'Hope')\n",
    "print(tup)"
   ]
  },
  {
   "cell_type": "code",
   "execution_count": 90,
   "id": "5d12fcdd-6fbc-4aac-95e7-72108054f018",
   "metadata": {},
   "outputs": [
    {
     "name": "stdout",
     "output_type": "stream",
     "text": [
      "('(0,1,23)', '(python', 'Hope)')\n"
     ]
    }
   ],
   "source": [
    "tuple1=('(0,1,23)', '(python', 'Hope)')\n",
    "print(tuple1)"
   ]
  },
  {
   "cell_type": "code",
   "execution_count": null,
   "id": "091bcec6-ab48-4f06-8b90-7eff5db74fd3",
   "metadata": {},
   "outputs": [],
   "source": []
  }
 ],
 "metadata": {
  "kernelspec": {
   "display_name": "Python [conda env:base] *",
   "language": "python",
   "name": "conda-base-py"
  },
  "language_info": {
   "codemirror_mode": {
    "name": "ipython",
    "version": 3
   },
   "file_extension": ".py",
   "mimetype": "text/x-python",
   "name": "python",
   "nbconvert_exporter": "python",
   "pygments_lexer": "ipython3",
   "version": "3.12.7"
  }
 },
 "nbformat": 4,
 "nbformat_minor": 5
}
